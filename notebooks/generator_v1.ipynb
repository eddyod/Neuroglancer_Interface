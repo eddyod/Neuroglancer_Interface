{
 "cells": [
  {
   "cell_type": "code",
   "execution_count": null,
   "metadata": {},
   "outputs": [],
   "source": [
    "import os, sys\n",
    "import json\n",
    "import pickle as pk\n",
    "import numpy as np\n",
    "import matplotlib\n",
    "import bloscpack as bp\n",
    "import pandas as pd\n",
    "from matplotlib import pyplot as plt\n",
    "import neuroglancer"
   ]
  },
  {
   "cell_type": "code",
   "execution_count": null,
   "metadata": {},
   "outputs": [],
   "source": [
    "PATH = '/home/eddyod/programming/pipeline_utility'\n",
    "sys.path.append(os.path.join(os.getcwd(), PATH))\n",
    "from utilities.contour_utilities import get_contours_from_annotations, add_structure_to_neuroglancer"
   ]
  },
  {
   "cell_type": "code",
   "execution_count": null,
   "metadata": {},
   "outputs": [],
   "source": [
    "color_map_file = os.path.join(PATH, 'contours', 'json_cache', 'struct_to_color_2.json')\n",
    "with open( color_map_file, 'r') as json_file:\n",
    "    structure_to_color = json.load( json_file )\n",
    "\n",
    "stack_param_file = os.path.join(PATH, 'contours', 'json_cache', 'stack_parameters_ng.json')\n",
    "with open( stack_param_file, 'r') as json_file:\n",
    "    stack_parameters_ng = json.load( json_file )\n",
    "    \n",
    "color_segments=[]\n",
    "for i in range(1,29):\n",
    "    color_segments.append(i)"
   ]
  },
  {
   "cell_type": "code",
   "execution_count": null,
   "metadata": {},
   "outputs": [],
   "source": [
    "neuroglancer.set_server_bind_address('0.0.0.0')\n",
    "viewer = neuroglancer.Viewer()\n",
    "print(viewer)"
   ]
  },
  {
   "cell_type": "code",
   "execution_count": null,
   "metadata": {},
   "outputs": [],
   "source": [
    "stack = 'MD589'\n",
    "target_str = '7N'"
   ]
  },
  {
   "cell_type": "code",
   "execution_count": null,
   "metadata": {},
   "outputs": [],
   "source": [
    "filepath = os.path.join('/home/eddyod/MouseBrainSlicer_data/MD589', 'Annotation.npy')\n",
    "annotation = np.load(filepath, allow_pickle = True, encoding='latin1')\n",
    "contours = pd.DataFrame(annotation)\n",
    "hand_annotations = contours.rename(columns={0:\"name\", 1:\"section\", 2:\"vertices\"})"
   ]
  },
  {
   "cell_type": "code",
   "execution_count": null,
   "metadata": {},
   "outputs": [],
   "source": [
    "str_contours_annotation, first_sec, last_sec = get_contours_from_annotations(stack, target_str, hand_annotations, densify=0)"
   ]
  },
  {
   "cell_type": "code",
   "execution_count": null,
   "metadata": {
    "scrolled": true
   },
   "outputs": [],
   "source": [
    "try:\n",
    "    color=structure_to_color[target_str]\n",
    "except:\n",
    "    color=3\n",
    "\n",
    "ng_structure_volume = add_structure_to_neuroglancer( viewer, str_contours_annotation, target_str, stack, first_sec, last_sec, \\\n",
    "                                                color_radius=2, xy_ng_resolution_um=5, threshold=1, color=color, \\\n",
    "                                                solid_volume=False, no_offset_big_volume=True, save_results=False, \\\n",
    "                                                return_with_offsets=False, add_to_ng=True, human_annotation=True )"
   ]
  },
  {
   "cell_type": "code",
   "execution_count": null,
   "metadata": {},
   "outputs": [],
   "source": [
    "bp_path = '/net/birdstore/Active_Atlas_Data/copied_from_S3/mousebrainatlas-data/CSHL_volumes/MD589/MD589_wholebrainWithMargin_10.0um_intensityVolume/MD589_wholebrainWithMargin_10.0um_intensityVolume.bp'\n",
    "pk_path = '/net/birdstore/Active_Atlas_Data/copied_from_S3/mousebrainatlas-data/CSHL_meshes/atlasV7/instance_sources'\n",
    "file = 'atlasV7_7N_sources.pkl'\n",
    "filepath = os.path.join(pk_path, file)"
   ]
  },
  {
   "cell_type": "code",
   "execution_count": null,
   "metadata": {},
   "outputs": [],
   "source": [
    "MD589_bpdata = bp.unpack_ndarray_from_file(bp_path)"
   ]
  },
  {
   "cell_type": "code",
   "execution_count": null,
   "metadata": {},
   "outputs": [],
   "source": [
    "filepath = '/home/eddyod/MouseBrainSlicer_data/v_atlas/meta_information.pkl'\n",
    "with open(filepath,'rb') as pickle_file:\n",
    "    presults=pk.load(pickle_file)"
   ]
  },
  {
   "cell_type": "code",
   "execution_count": null,
   "metadata": {},
   "outputs": [],
   "source": [
    "filename = os.path.join(filepath, '/home/eddyod/MouseBrainSlicer_data/v_atlas/compressed_atlas.npy')\n",
    "npdata = np.load(filename)"
   ]
  },
  {
   "cell_type": "code",
   "execution_count": null,
   "metadata": {},
   "outputs": [],
   "source": [
    "start, finish = (300,305)\n",
    "plt.style.use('classic')\n",
    "for i in range(start, finish):    \n",
    "    plt.figure()\n",
    "    plt.imshow(npdata[:,:,i], cmap='gray')\n",
    "    plt.show()"
   ]
  }
 ],
 "metadata": {
  "kernelspec": {
   "display_name": "Python 3",
   "language": "python",
   "name": "python3"
  },
  "language_info": {
   "codemirror_mode": {
    "name": "ipython",
    "version": 3
   },
   "file_extension": ".py",
   "mimetype": "text/x-python",
   "name": "python",
   "nbconvert_exporter": "python",
   "pygments_lexer": "ipython3",
   "version": "3.8.2"
  }
 },
 "nbformat": 4,
 "nbformat_minor": 4
}
